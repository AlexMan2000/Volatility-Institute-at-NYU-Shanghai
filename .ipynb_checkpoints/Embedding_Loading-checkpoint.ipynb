{
 "cells": [
  {
   "cell_type": "code",
   "execution_count": 6,
   "metadata": {},
   "outputs": [],
   "source": [
    "import warnings\n",
    "warnings.filterwarnings('ignore')  # 警告扰人，手动封存\n",
    "from gensim.models.word2vec import KeyedVectors\n",
    "import numpy as np"
   ]
  },
  {
   "cell_type": "code",
   "execution_count": 3,
   "metadata": {},
   "outputs": [
    {
     "name": "stdout",
     "output_type": "stream",
     "text": [
      "<gensim.models.keyedvectors.KeyedVectors object at 0x000001ABE54770D0>\n"
     ]
    }
   ],
   "source": [
    "DATAPATH = \"./Data/Tencent_AILab_ChineseEmbedding.txt\"\n",
    "wv_from_text = KeyedVectors.load_word2vec_format(DATAPATH,binary=False,limit=500000)\n",
    "print(wv_from_text)"
   ]
  },
  {
   "cell_type": "code",
   "execution_count": 28,
   "metadata": {},
   "outputs": [],
   "source": [
    "def judge_topic_from_article(tf_idf_id,k):\n",
    "    industry_list = [\"采掘\",\"化工\",\"钢铁\",\"有色金属\",'建筑材料','建筑装饰','电气设备','机械设备','国防军工','汽车','家用电器','轻工制造','农林牧渔','食品饮料','纺织服装','医药生物','商业贸易','休闲服务','电子','计算机','传媒','通信','公用事业','交通运输','房地产','银行','非银金融','综合']\n",
    "\n",
    "    with open('./Data/TF-ITF.txt', 'r', encoding=\"gbk\") as inF:\n",
    "        all_tf_idf = inF.readlines()\n",
    "        line = all_tf_idf[tf_idf_id]\n",
    "        article_title = line.split(\";\")[0]\n",
    "        word2tfidf = mapping = line.split(\";\")[:-1]\n",
    "        industry_score_mapping = {}\n",
    "        for industry in industry_list:\n",
    "            similarity_list = []\n",
    "            for mapping in word2tfidf:\n",
    "                word = mapping.split(\" \")[0]\n",
    "                if word in wv_from_text:\n",
    "                    similarity_list.append(wv_from_text.similarity(word, industry))\n",
    "            score = np.mean(similarity_list)\n",
    "            industry_score_mapping[industry] = score\n",
    "    \n",
    "    top_k = dict(sorted(industry_score_mapping.items(),key=lambda x: x[1],reverse=True)[:k])\n",
    "\n",
    "    return industry_score_mapping, top_k"
   ]
  },
  {
   "cell_type": "code",
   "execution_count": 29,
   "metadata": {},
   "outputs": [
    {
     "name": "stdout",
     "output_type": "stream",
     "text": [
      "{'通信': 0.26090086, '综合': 0.25306273, '交通运输': 0.24506915, '银行': 0.23719554, '钢铁': 0.23364842}\n"
     ]
    }
   ],
   "source": [
    "print(judge_topic_from_article(0,5)[1])"
   ]
  },
  {
   "cell_type": "code",
   "execution_count": null,
   "metadata": {},
   "outputs": [],
   "source": []
  },
  {
   "cell_type": "code",
   "execution_count": null,
   "metadata": {},
   "outputs": [],
   "source": []
  },
  {
   "cell_type": "code",
   "execution_count": null,
   "metadata": {},
   "outputs": [],
   "source": []
  },
  {
   "cell_type": "code",
   "execution_count": null,
   "metadata": {},
   "outputs": [],
   "source": []
  },
  {
   "cell_type": "code",
   "execution_count": null,
   "metadata": {},
   "outputs": [],
   "source": []
  },
  {
   "cell_type": "code",
   "execution_count": null,
   "metadata": {},
   "outputs": [],
   "source": []
  },
  {
   "cell_type": "code",
   "execution_count": null,
   "metadata": {},
   "outputs": [],
   "source": []
  }
 ],
 "metadata": {
  "kernelspec": {
   "display_name": "Python 3",
   "language": "python",
   "name": "python3"
  },
  "language_info": {
   "codemirror_mode": {
    "name": "ipython",
    "version": 3
   },
   "file_extension": ".py",
   "mimetype": "text/x-python",
   "name": "python",
   "nbconvert_exporter": "python",
   "pygments_lexer": "ipython3",
   "version": "3.8.5"
  }
 },
 "nbformat": 4,
 "nbformat_minor": 4
}
