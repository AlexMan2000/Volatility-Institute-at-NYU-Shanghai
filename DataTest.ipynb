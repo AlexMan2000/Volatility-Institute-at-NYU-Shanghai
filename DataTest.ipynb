{
 "cells": [
  {
   "cell_type": "code",
   "execution_count": 2,
   "metadata": {},
   "outputs": [],
   "source": [
    "from gensim.models.word2vec import KeyedVectors"
   ]
  },
  {
   "cell_type": "code",
   "execution_count": 3,
   "metadata": {},
   "outputs": [],
   "source": [
    "data = KeyedVectors.load_word2vec_format(\"./Data/Tencent_AILab_ChineseEmbedding.txt\",binary=False,limit=50000)"
   ]
  },
  {
   "cell_type": "code",
   "execution_count": 5,
   "metadata": {},
   "outputs": [
    {
     "data": {
      "text/plain": [
       "array([ 3.56082e-01, -1.80596e-01,  1.85805e-01,  7.63270e-02,\n",
       "        3.31199e-01, -9.50900e-02,  8.37840e-02,  1.63685e-01,\n",
       "        3.94450e-02,  1.65298e-01, -2.10911e-01, -1.44029e-01,\n",
       "        2.62070e-02, -8.11700e-03,  1.15159e-01,  1.53219e-01,\n",
       "       -3.15223e-01, -3.15678e-01, -1.25675e-01, -2.75004e-01,\n",
       "        4.86270e-02, -2.61640e-02, -2.07428e-01,  1.38856e-01,\n",
       "        1.60630e-02,  2.96121e-01, -1.52143e-01,  8.59530e-02,\n",
       "        3.65987e-01, -1.81412e-01, -1.95845e-01, -2.74850e-02,\n",
       "       -1.44713e-01,  1.66965e-01, -2.08822e-01, -2.05306e-01,\n",
       "        1.87133e-01,  6.97100e-02, -1.64495e-01,  1.91943e-01,\n",
       "        4.93540e-02, -2.05522e-01,  4.01674e-01, -1.09109e-01,\n",
       "       -2.89946e-01,  1.74193e-01, -4.44713e-01, -5.79710e-01,\n",
       "       -6.91250e-02, -7.07270e-02, -2.84029e-01,  1.02862e-01,\n",
       "       -2.59838e-01,  1.23419e-01,  2.41752e-01,  4.69550e-02,\n",
       "        3.35250e-02,  6.42000e-02,  3.90926e-01,  3.18953e-01,\n",
       "        1.20240e-02,  1.13651e-01,  2.23803e-01, -2.41004e-01,\n",
       "       -1.95292e-01,  5.06500e-03, -7.54020e-02, -9.10360e-02,\n",
       "       -1.75473e-01, -1.87850e-01, -1.08087e-01,  3.89660e-02,\n",
       "       -4.80650e-02,  3.05731e-01, -1.40101e-01,  2.84230e-02,\n",
       "       -5.01350e-02,  1.14171e-01,  9.69180e-02,  1.53753e-01,\n",
       "        4.00300e-03,  2.13390e-01,  1.09737e-01,  2.53162e-01,\n",
       "        2.56142e-01, -2.03195e-01, -2.33502e-01,  3.24152e-01,\n",
       "       -3.20813e-01,  1.22623e-01,  7.61650e-02,  1.29405e-01,\n",
       "        1.45441e-01, -5.69160e-02, -2.38625e-01,  1.62722e-01,\n",
       "        2.22462e-01,  1.16600e-03, -2.35903e-01,  8.16690e-02,\n",
       "       -6.88220e-02,  2.51633e-01, -1.60848e-01,  1.07029e-01,\n",
       "       -1.82507e-01,  3.94777e-01,  4.01830e-02, -3.46717e-01,\n",
       "       -1.40240e-02, -9.61060e-02, -1.41440e-01, -1.17284e-01,\n",
       "        2.12650e-02, -2.78333e-01,  1.07398e-01, -2.40076e-01,\n",
       "       -1.37534e-01, -3.88760e-02, -1.92897e-01, -2.09286e-01,\n",
       "        2.20044e-01, -3.67716e-01, -3.48700e-02,  7.64100e-03,\n",
       "       -3.74000e-04, -5.22580e-02, -3.04358e-01,  1.48850e-02,\n",
       "        1.15130e-02,  1.07071e-01, -1.63400e-02, -9.73630e-02,\n",
       "        2.41586e-01, -6.60530e-02, -2.75578e-01, -2.90059e-01,\n",
       "       -2.00872e-01,  1.69460e-01,  1.13576e-01,  2.47980e-02,\n",
       "       -3.14034e-01, -3.17138e-01, -2.92706e-01,  1.36587e-01,\n",
       "       -4.67690e-02, -4.04595e-01,  2.65102e-01,  2.81160e-02,\n",
       "       -2.14030e-01,  1.28330e-01, -1.47983e-01, -7.08000e-03,\n",
       "       -1.33556e-01,  4.29470e-02, -1.42826e-01,  3.60870e-02,\n",
       "        4.28170e-02, -2.15990e-02,  1.76794e-01, -2.30591e-01,\n",
       "        2.46149e-01,  7.05800e-03,  2.93945e-01,  1.86524e-01,\n",
       "        3.26992e-01,  2.01506e-01, -3.08895e-01,  2.73911e-01,\n",
       "        6.59660e-02, -2.52370e-02,  9.77630e-02,  1.49730e-02,\n",
       "       -1.02837e-01,  1.90796e-01, -2.59260e-02, -3.92090e-02,\n",
       "       -5.49120e-02, -3.10756e-01,  1.98466e-01, -6.31570e-02,\n",
       "       -2.12610e-02, -1.41478e-01, -1.30768e-01,  1.20253e-01,\n",
       "       -3.30960e-02, -8.59710e-02, -2.00368e-01,  4.24152e-01,\n",
       "        1.40518e-01, -4.39480e-02,  3.27640e-02, -3.89380e-02,\n",
       "       -5.87930e-02,  5.11680e-02,  3.06588e-01,  2.94487e-01,\n",
       "       -8.53800e-03, -4.58731e-01, -2.03001e-01, -2.22480e-02],\n",
       "      dtype=float32)"
      ]
     },
     "execution_count": 5,
     "metadata": {},
     "output_type": "execute_result"
    }
   ],
   "source": [
    "data[\"他\"]"
   ]
  },
  {
   "cell_type": "code",
   "execution_count": 4,
   "metadata": {},
   "outputs": [],
   "source": [
    "import numpy as np\n",
    "import pandas as pd"
   ]
  },
  {
   "cell_type": "code",
   "execution_count": 2,
   "metadata": {},
   "outputs": [],
   "source": [
    "tmp = np.arange(200)"
   ]
  },
  {
   "cell_type": "code",
   "execution_count": 3,
   "metadata": {},
   "outputs": [
    {
     "data": {
      "text/plain": [
       "array([  0,   1,   2,   3,   4,   5,   6,   7,   8,   9,  10,  11,  12,\n",
       "        13,  14,  15,  16,  17,  18,  19,  20,  21,  22,  23,  24,  25,\n",
       "        26,  27,  28,  29,  30,  31,  32,  33,  34,  35,  36,  37,  38,\n",
       "        39,  40,  41,  42,  43,  44,  45,  46,  47,  48,  49,  50,  51,\n",
       "        52,  53,  54,  55,  56,  57,  58,  59,  60,  61,  62,  63,  64,\n",
       "        65,  66,  67,  68,  69,  70,  71,  72,  73,  74,  75,  76,  77,\n",
       "        78,  79,  80,  81,  82,  83,  84,  85,  86,  87,  88,  89,  90,\n",
       "        91,  92,  93,  94,  95,  96,  97,  98,  99, 100, 101, 102, 103,\n",
       "       104, 105, 106, 107, 108, 109, 110, 111, 112, 113, 114, 115, 116,\n",
       "       117, 118, 119, 120, 121, 122, 123, 124, 125, 126, 127, 128, 129,\n",
       "       130, 131, 132, 133, 134, 135, 136, 137, 138, 139, 140, 141, 142,\n",
       "       143, 144, 145, 146, 147, 148, 149, 150, 151, 152, 153, 154, 155,\n",
       "       156, 157, 158, 159, 160, 161, 162, 163, 164, 165, 166, 167, 168,\n",
       "       169, 170, 171, 172, 173, 174, 175, 176, 177, 178, 179, 180, 181,\n",
       "       182, 183, 184, 185, 186, 187, 188, 189, 190, 191, 192, 193, 194,\n",
       "       195, 196, 197, 198, 199])"
      ]
     },
     "execution_count": 3,
     "metadata": {},
     "output_type": "execute_result"
    }
   ],
   "source": [
    "np.random.choice(tmp.shape)"
   ]
  },
  {
   "cell_type": "code",
   "execution_count": 5,
   "metadata": {},
   "outputs": [],
   "source": [
    "data = pd.read_excel(\"./Data/文本分词.xlsx\")"
   ]
  },
  {
   "cell_type": "code",
   "execution_count": 9,
   "metadata": {},
   "outputs": [],
   "source": [
    "random_sample = np.random.choice(data.shape[0],2000)"
   ]
  },
  {
   "cell_type": "code",
   "execution_count": 16,
   "metadata": {},
   "outputs": [],
   "source": [
    "from sklearn import preprocessing"
   ]
  },
  {
   "cell_type": "code",
   "execution_count": 14,
   "metadata": {},
   "outputs": [
    {
     "data": {
      "text/html": [
       "<div>\n",
       "<style scoped>\n",
       "    .dataframe tbody tr th:only-of-type {\n",
       "        vertical-align: middle;\n",
       "    }\n",
       "\n",
       "    .dataframe tbody tr th {\n",
       "        vertical-align: top;\n",
       "    }\n",
       "\n",
       "    .dataframe thead th {\n",
       "        text-align: right;\n",
       "    }\n",
       "</style>\n",
       "<table border=\"1\" class=\"dataframe\">\n",
       "  <thead>\n",
       "    <tr style=\"text-align: right;\">\n",
       "      <th></th>\n",
       "      <th>Unnamed: 0</th>\n",
       "      <th>分类</th>\n",
       "      <th>正文</th>\n",
       "      <th>文本分词</th>\n",
       "    </tr>\n",
       "  </thead>\n",
       "  <tbody>\n",
       "    <tr>\n",
       "      <th>6055</th>\n",
       "      <td>6055</td>\n",
       "      <td>体育</td>\n",
       "      <td>﻿【 文献号 】3-1463\\n【原文出处】华南师范大学学报：社科版\\n【原刊地名】广州\\n...</td>\n",
       "      <td>﻿ 【   文献号   】 3 - 1463 \\n 【 原文 出处 】 华南 师范大学 学报...</td>\n",
       "    </tr>\n",
       "    <tr>\n",
       "      <th>3408</th>\n",
       "      <td>3408</td>\n",
       "      <td>计算机</td>\n",
       "      <td>﻿软件学报\\nJOURNAL OF SOFTWARE\\n1999年 第1期 No.1 199...</td>\n",
       "      <td>﻿ 软件 学报 \\n JOURNAL   OF   SOFTWARE \\n 1999 年  ...</td>\n",
       "    </tr>\n",
       "    <tr>\n",
       "      <th>725</th>\n",
       "      <td>725</td>\n",
       "      <td>艺术</td>\n",
       "      <td>﻿ 蒙古举办中国电影日\\n新华社乌兰巴托５月２８日电（记者孙承平）为庆祝\\n中蒙友好互助条约...</td>\n",
       "      <td>﻿   蒙古 举办 中国 电影 日 \\n 新华社 乌兰巴托 ５ 月 ２ ８ 日电 （ 记者 ...</td>\n",
       "    </tr>\n",
       "    <tr>\n",
       "      <th>8035</th>\n",
       "      <td>8035</td>\n",
       "      <td>经济</td>\n",
       "      <td>﻿【 文献号 】1-1502\\n【原文出处】社会科学\\n【原刊地名】沪\\n【原刊期号】199...</td>\n",
       "      <td>﻿ 【   文献号   】 1 - 1502 \\n 【 原文 出处 】 社会科学 \\n 【 ...</td>\n",
       "    </tr>\n",
       "    <tr>\n",
       "      <th>5924</th>\n",
       "      <td>5924</td>\n",
       "      <td>体育</td>\n",
       "      <td>﻿【 文献号 】2-4165\\n【原文出处】体育科学\\n【原刊地名】京\\n【原刊期号】199...</td>\n",
       "      <td>﻿ 【   文献号   】 2 - 4165 \\n 【 原文 出处 】 体育 科学 \\n 【...</td>\n",
       "    </tr>\n",
       "    <tr>\n",
       "      <th>...</th>\n",
       "      <td>...</td>\n",
       "      <td>...</td>\n",
       "      <td>...</td>\n",
       "      <td>...</td>\n",
       "    </tr>\n",
       "    <tr>\n",
       "      <th>7868</th>\n",
       "      <td>7868</td>\n",
       "      <td>经济</td>\n",
       "      <td>﻿【 文献号 】1-1649\\n【原文出处】社会科学\\n【原刊地名】沪\\n【原刊期号】199...</td>\n",
       "      <td>﻿ 【   文献号   】 1 - 1649 \\n 【 原文 出处 】 社会科学 \\n 【 ...</td>\n",
       "    </tr>\n",
       "    <tr>\n",
       "      <th>6562</th>\n",
       "      <td>6562</td>\n",
       "      <td>体育</td>\n",
       "      <td>﻿【 文献号 】2-2800\\n【原文出处】光明日报\\n【原刊地名】京\\n【原刊期号】199...</td>\n",
       "      <td>﻿ 【   文献号   】 2 - 2800 \\n 【 原文 出处 】 光明日报 \\n 【 ...</td>\n",
       "    </tr>\n",
       "    <tr>\n",
       "      <th>4767</th>\n",
       "      <td>4767</td>\n",
       "      <td>农业</td>\n",
       "      <td>﻿【 文献号 】1-3074\\n【原文出处】华中理工大学学报：社科版\\n【原刊地名】武汉\\n...</td>\n",
       "      <td>﻿ 【   文献号   】 1 - 3074 \\n 【 原文 出处 】 华中理工大学 学报 ...</td>\n",
       "    </tr>\n",
       "    <tr>\n",
       "      <th>9244</th>\n",
       "      <td>9244</td>\n",
       "      <td>法律</td>\n",
       "      <td>﻿２１５\\n 企业 管理 体制 与 生产 经营   \\n０６０１\\n１９８７ 年 ３月 ２４...</td>\n",
       "      <td>﻿ ２ １ ５ \\n   企业   管理   体制   与   生产   经营       ...</td>\n",
       "    </tr>\n",
       "    <tr>\n",
       "      <th>915</th>\n",
       "      <td>915</td>\n",
       "      <td>历史</td>\n",
       "      <td>﻿【 文献号 】1-3742\\n【原文出处】山西大学学报：哲社版\\n【原刊地名】武汉\\n【原...</td>\n",
       "      <td>﻿ 【   文献号   】 1 - 3742 \\n 【 原文 出处 】 山西大学 学报 ： ...</td>\n",
       "    </tr>\n",
       "  </tbody>\n",
       "</table>\n",
       "<p>2000 rows × 4 columns</p>\n",
       "</div>"
      ],
      "text/plain": [
       "      Unnamed: 0   分类                                                 正文  \\\n",
       "6055        6055   体育  ﻿【 文献号 】3-1463\\n【原文出处】华南师范大学学报：社科版\\n【原刊地名】广州\\n...   \n",
       "3408        3408  计算机  ﻿软件学报\\nJOURNAL OF SOFTWARE\\n1999年 第1期 No.1 199...   \n",
       "725          725   艺术  ﻿ 蒙古举办中国电影日\\n新华社乌兰巴托５月２８日电（记者孙承平）为庆祝\\n中蒙友好互助条约...   \n",
       "8035        8035   经济  ﻿【 文献号 】1-1502\\n【原文出处】社会科学\\n【原刊地名】沪\\n【原刊期号】199...   \n",
       "5924        5924   体育  ﻿【 文献号 】2-4165\\n【原文出处】体育科学\\n【原刊地名】京\\n【原刊期号】199...   \n",
       "...          ...  ...                                                ...   \n",
       "7868        7868   经济  ﻿【 文献号 】1-1649\\n【原文出处】社会科学\\n【原刊地名】沪\\n【原刊期号】199...   \n",
       "6562        6562   体育  ﻿【 文献号 】2-2800\\n【原文出处】光明日报\\n【原刊地名】京\\n【原刊期号】199...   \n",
       "4767        4767   农业  ﻿【 文献号 】1-3074\\n【原文出处】华中理工大学学报：社科版\\n【原刊地名】武汉\\n...   \n",
       "9244        9244   法律  ﻿２１５\\n 企业 管理 体制 与 生产 经营   \\n０６０１\\n１９８７ 年 ３月 ２４...   \n",
       "915          915   历史  ﻿【 文献号 】1-3742\\n【原文出处】山西大学学报：哲社版\\n【原刊地名】武汉\\n【原...   \n",
       "\n",
       "                                                   文本分词  \n",
       "6055  ﻿ 【   文献号   】 3 - 1463 \\n 【 原文 出处 】 华南 师范大学 学报...  \n",
       "3408  ﻿ 软件 学报 \\n JOURNAL   OF   SOFTWARE \\n 1999 年  ...  \n",
       "725   ﻿   蒙古 举办 中国 电影 日 \\n 新华社 乌兰巴托 ５ 月 ２ ８ 日电 （ 记者 ...  \n",
       "8035  ﻿ 【   文献号   】 1 - 1502 \\n 【 原文 出处 】 社会科学 \\n 【 ...  \n",
       "5924  ﻿ 【   文献号   】 2 - 4165 \\n 【 原文 出处 】 体育 科学 \\n 【...  \n",
       "...                                                 ...  \n",
       "7868  ﻿ 【   文献号   】 1 - 1649 \\n 【 原文 出处 】 社会科学 \\n 【 ...  \n",
       "6562  ﻿ 【   文献号   】 2 - 2800 \\n 【 原文 出处 】 光明日报 \\n 【 ...  \n",
       "4767  ﻿ 【   文献号   】 1 - 3074 \\n 【 原文 出处 】 华中理工大学 学报 ...  \n",
       "9244  ﻿ ２ １ ５ \\n   企业   管理   体制   与   生产   经营       ...  \n",
       "915   ﻿ 【   文献号   】 1 - 3742 \\n 【 原文 出处 】 山西大学 学报 ： ...  \n",
       "\n",
       "[2000 rows x 4 columns]"
      ]
     },
     "execution_count": 14,
     "metadata": {},
     "output_type": "execute_result"
    }
   ],
   "source": [
    "data.iloc[random_sample,:]"
   ]
  },
  {
   "cell_type": "code",
   "execution_count": 17,
   "metadata": {},
   "outputs": [],
   "source": [
    "lbl_enc = preprocessing.LabelEncoder()\n",
    "y = lbl_enc.fit_transform(data.分类.values)"
   ]
  },
  {
   "cell_type": "code",
   "execution_count": 18,
   "metadata": {},
   "outputs": [
    {
     "data": {
      "text/plain": [
       "array([16, 16, 16, ...,  9,  9,  9])"
      ]
     },
     "execution_count": 18,
     "metadata": {},
     "output_type": "execute_result"
    }
   ],
   "source": [
    "y"
   ]
  },
  {
   "cell_type": "code",
   "execution_count": 24,
   "metadata": {},
   "outputs": [],
   "source": [
    "tmp = np.array([[0,1,2,3],[2,3,1,4],[1,0,0,0]])\n",
    "predicted = np.argmax(tmp,axis=1)\n",
    "actual = np.array([2,4,0])"
   ]
  },
  {
   "cell_type": "code",
   "execution_count": 25,
   "metadata": {},
   "outputs": [
    {
     "data": {
      "text/plain": [
       "0.3333333333333333"
      ]
     },
     "execution_count": 25,
     "metadata": {},
     "output_type": "execute_result"
    }
   ],
   "source": [
    "np.sum(actual==predicted)/actual.shape[0]"
   ]
  },
  {
   "cell_type": "code",
   "execution_count": 1,
   "metadata": {},
   "outputs": [],
   "source": [
    "import re\n",
    "import pandas as pd \n",
    "import numpy as np\n",
    "import jieba"
   ]
  },
  {
   "cell_type": "code",
   "execution_count": 51,
   "metadata": {},
   "outputs": [],
   "source": [
    "speech = open(\"E:\\VINS Project\\Data\\speech.txt\",\"r\",encoding=\"utf-8\")\n",
    "articles = extract_article(speech)\n",
    "training_data = pd.DataFrame({\"articles\":articles})"
   ]
  },
  {
   "cell_type": "code",
   "execution_count": 5,
   "metadata": {},
   "outputs": [],
   "source": [
    "def extract_article(file):\n",
    "    '''\n",
    "\n",
    "    :param file:\n",
    "    :return: 所有文章\n",
    "    '''\n",
    "    lines = file.readlines()\n",
    "    articles = set()\n",
    "    for line in lines:\n",
    "        if \"'article'\" in line:\n",
    "            line = re.findall(r'\\'article\\':\\s\\'(.*)\\'\\,', line)\n",
    "            if len(line) > 0:\n",
    "                if line[0] != '':\n",
    "                    articles.add(line[0])\n",
    "\n",
    "    return list(articles)\n"
   ]
  },
  {
   "cell_type": "code",
   "execution_count": 54,
   "metadata": {},
   "outputs": [],
   "source": [
    "training_data[\"cutted_articles\"] = training_data[\"articles\"].apply(lambda i:jieba.cut(i))\n",
    "training_data[\"cutted_articles\"] = [' '.join(i) for i in training_data[\"cutted_articles\"]]"
   ]
  },
  {
   "cell_type": "code",
   "execution_count": 56,
   "metadata": {},
   "outputs": [],
   "source": [
    "training_data.to_csv(\"./Data/political_speech.csv\")"
   ]
  },
  {
   "cell_type": "code",
   "execution_count": 55,
   "metadata": {},
   "outputs": [
    {
     "data": {
      "text/plain": [
       "0        2016 “ 中 美 旅游 年 ” 2 月 29 日 在京开幕 。 国家 主席 习近平 向 ...\n",
       "1        习近平 给 北京大学 学生 回信 勉励 当代 青年 勇 做 走 在 时代 前面 的 奋进 者...\n",
       "2        3 月 13 日 ， 中国人民政治协商会议 第十三届 全国 委员会 第二次 会议 在 北京 ...\n",
       "3        十三 、 坚定不移 全面 从严治党 ， 不断 提高 党 的 执政 能力 和 领导 水平 中国...\n",
       "4        第十三次 上海 合作 组织 成员国 最高法院 院长 会议 25 日 在 北京 举行 。 国家...\n",
       "                               ...                        \n",
       "11243    国家 主席 习近平 19 日 在 人民大会堂 接受 8 国 新任 驻华大使 递交国书 。 他...\n",
       "11244    习近平 对 党和国家 功勋 荣誉 表彰 工作 作出 重要 指示 强调 发挥 功勋 荣誉 精神...\n",
       "11245    22 日 下午 ， 正在 福建 武夷山市 考察 的 习近平 总书记 来到 朱熹 园 ， 了解...\n",
       "11246    七月 十六日 晚 ， 国家 主席 习近平 应邀 在 北京 以 视频 方式 出席 亚太经合组织...\n",
       "11247    5 月 28 日 ， 国家 主席 习近平 在 北京人民大会堂 会见 瓦努阿图 总理 萨尔 维...\n",
       "Name: cutted_articles, Length: 11248, dtype: object"
      ]
     },
     "execution_count": 55,
     "metadata": {},
     "output_type": "execute_result"
    }
   ],
   "source": [
    "training_data[\"cutted_articles\"]"
   ]
  },
  {
   "cell_type": "code",
   "execution_count": null,
   "metadata": {},
   "outputs": [],
   "source": []
  },
  {
   "cell_type": "code",
   "execution_count": null,
   "metadata": {},
   "outputs": [],
   "source": []
  },
  {
   "cell_type": "code",
   "execution_count": 40,
   "metadata": {},
   "outputs": [
    {
     "data": {
      "text/plain": [
       "'2016“中美旅游年”2月29日在京开幕。国家主席习近平向开幕式致贺词。习近平指出，共同举办2016“中美旅游年”是我去年9月对美国进行国事访问期间双方达成的一项重要成果。值此2016“中美旅游年”开幕之际，我谨代表中国政府和人民，并以我个人的名义，对旅游年的开幕表示热烈的祝贺，对远道而来的美国朋友表示热烈的欢迎。习近平指出，中美建交37年来，两国关系取得历史性发展。近年来，双方共同努力推进中美新型大国关系建设，两国在诸多重要领域、重大国际和地区问题上开展了富有成效的协调与合作，不仅造福两国和两国人民，而且有力促进了世界和平、稳定、繁荣。习近平表示，中美都有灿烂的文化、优美的风光，两国人民都有加深了解、增进友谊的强烈愿望。希望双方以举办旅游年为契机，扩大人员往来，加强文化交流，为中美关系发展培育更为厚实的民意和社会基础。欢迎更多美国朋友来中国旅游。祝2016“中美旅游年”圆满成功。(新华社北京3月1日电)'"
      ]
     },
     "execution_count": 40,
     "metadata": {},
     "output_type": "execute_result"
    }
   ],
   "source": [
    "tmp = training_data.iloc[0,:][\"articles\"]\n",
    "tmp"
   ]
  },
  {
   "cell_type": "code",
   "execution_count": 44,
   "metadata": {},
   "outputs": [],
   "source": [
    "tmp_cutted = jieba.cut(tmp)\n",
    "tmp2 = ['*'.join(i) for i in tmp_cutted]"
   ]
  },
  {
   "cell_type": "code",
   "execution_count": 50,
   "metadata": {},
   "outputs": [
    {
     "name": "stdout",
     "output_type": "stream",
     "text": [
      "我时\n",
      "习近平\n"
     ]
    }
   ],
   "source": [
    "text = \"我时习近平\"\n",
    "text_cutted = jieba.cut(text)\n",
    "[]"
   ]
  },
  {
   "cell_type": "markdown",
   "metadata": {},
   "source": [
    "t"
   ]
  },
  {
   "cell_type": "code",
   "execution_count": 28,
   "metadata": {},
   "outputs": [
    {
     "ename": "NameError",
     "evalue": "name 'pd' is not defined",
     "output_type": "error",
     "traceback": [
      "\u001b[1;31m---------------------------------------------------------------------------\u001b[0m",
      "\u001b[1;31mNameError\u001b[0m                                 Traceback (most recent call last)",
      "\u001b[1;32m<ipython-input-28-bd1a44d00665>\u001b[0m in \u001b[0;36m<module>\u001b[1;34m\u001b[0m\n\u001b[1;32m----> 1\u001b[1;33m \u001b[0mtraining_data\u001b[0m \u001b[1;33m=\u001b[0m \u001b[0mpd\u001b[0m\u001b[1;33m.\u001b[0m\u001b[0mread_csv\u001b[0m\u001b[1;33m(\u001b[0m\u001b[1;34m\"./Data/political_speech.csv\"\u001b[0m\u001b[1;33m)\u001b[0m\u001b[1;33m\u001b[0m\u001b[1;33m\u001b[0m\u001b[0m\n\u001b[0m",
      "\u001b[1;31mNameError\u001b[0m: name 'pd' is not defined"
     ]
    }
   ],
   "source": [
    "training_data = pd.read_csv(\"./Data/political_speech.csv\")"
   ]
  },
  {
   "cell_type": "code",
   "execution_count": 3,
   "metadata": {},
   "outputs": [
    {
     "data": {
      "text/html": [
       "<div>\n",
       "<style scoped>\n",
       "    .dataframe tbody tr th:only-of-type {\n",
       "        vertical-align: middle;\n",
       "    }\n",
       "\n",
       "    .dataframe tbody tr th {\n",
       "        vertical-align: top;\n",
       "    }\n",
       "\n",
       "    .dataframe thead th {\n",
       "        text-align: right;\n",
       "    }\n",
       "</style>\n",
       "<table border=\"1\" class=\"dataframe\">\n",
       "  <thead>\n",
       "    <tr style=\"text-align: right;\">\n",
       "      <th></th>\n",
       "      <th>Unnamed: 0</th>\n",
       "      <th>articles</th>\n",
       "      <th>cutted_articles</th>\n",
       "    </tr>\n",
       "  </thead>\n",
       "  <tbody>\n",
       "    <tr>\n",
       "      <th>0</th>\n",
       "      <td>0</td>\n",
       "      <td>2016“中美旅游年”2月29日在京开幕。国家主席习近平向开幕式致贺词。习近平指出，共同举办...</td>\n",
       "      <td>2016 “ 中 美 旅游 年 ” 2 月 29 日 在京开幕 。 国家 主席 习近平 向 ...</td>\n",
       "    </tr>\n",
       "    <tr>\n",
       "      <th>1</th>\n",
       "      <td>1</td>\n",
       "      <td>习近平给北京大学学生回信勉励当代青年勇做走在时代前面的奋进者开拓者奉献者五四青年节即将到来之...</td>\n",
       "      <td>习近平 给 北京大学 学生 回信 勉励 当代 青年 勇 做 走 在 时代 前面 的 奋进 者...</td>\n",
       "    </tr>\n",
       "    <tr>\n",
       "      <th>2</th>\n",
       "      <td>2</td>\n",
       "      <td>3月13日，中国人民政治协商会议第十三届全国委员会第二次会议在北京闭幕。这是习近平、李克强、...</td>\n",
       "      <td>3 月 13 日 ， 中国人民政治协商会议 第十三届 全国 委员会 第二次 会议 在 北京 ...</td>\n",
       "    </tr>\n",
       "    <tr>\n",
       "      <th>3</th>\n",
       "      <td>3</td>\n",
       "      <td>十三、坚定不移全面从严治党，不断提高党的执政能力和领导水平中国特色社会主义进入新时代，我们党...</td>\n",
       "      <td>十三 、 坚定不移 全面 从严治党 ， 不断 提高 党 的 执政 能力 和 领导 水平 中国...</td>\n",
       "    </tr>\n",
       "    <tr>\n",
       "      <th>4</th>\n",
       "      <td>4</td>\n",
       "      <td>第十三次上海合作组织成员国最高法院院长会议25日在北京举行。国家主席习近平致贺信，对会议召开...</td>\n",
       "      <td>第十三次 上海 合作 组织 成员国 最高法院 院长 会议 25 日 在 北京 举行 。 国家...</td>\n",
       "    </tr>\n",
       "  </tbody>\n",
       "</table>\n",
       "</div>"
      ],
      "text/plain": [
       "   Unnamed: 0                                           articles  \\\n",
       "0           0  2016“中美旅游年”2月29日在京开幕。国家主席习近平向开幕式致贺词。习近平指出，共同举办...   \n",
       "1           1  习近平给北京大学学生回信勉励当代青年勇做走在时代前面的奋进者开拓者奉献者五四青年节即将到来之...   \n",
       "2           2  3月13日，中国人民政治协商会议第十三届全国委员会第二次会议在北京闭幕。这是习近平、李克强、...   \n",
       "3           3  十三、坚定不移全面从严治党，不断提高党的执政能力和领导水平中国特色社会主义进入新时代，我们党...   \n",
       "4           4  第十三次上海合作组织成员国最高法院院长会议25日在北京举行。国家主席习近平致贺信，对会议召开...   \n",
       "\n",
       "                                     cutted_articles  \n",
       "0  2016 “ 中 美 旅游 年 ” 2 月 29 日 在京开幕 。 国家 主席 习近平 向 ...  \n",
       "1  习近平 给 北京大学 学生 回信 勉励 当代 青年 勇 做 走 在 时代 前面 的 奋进 者...  \n",
       "2  3 月 13 日 ， 中国人民政治协商会议 第十三届 全国 委员会 第二次 会议 在 北京 ...  \n",
       "3  十三 、 坚定不移 全面 从严治党 ， 不断 提高 党 的 执政 能力 和 领导 水平 中国...  \n",
       "4  第十三次 上海 合作 组织 成员国 最高法院 院长 会议 25 日 在 北京 举行 。 国家...  "
      ]
     },
     "execution_count": 3,
     "metadata": {},
     "output_type": "execute_result"
    }
   ],
   "source": [
    "training_data.head()"
   ]
  },
  {
   "cell_type": "code",
   "execution_count": 4,
   "metadata": {},
   "outputs": [],
   "source": [
    "import joblib"
   ]
  },
  {
   "cell_type": "code",
   "execution_count": 6,
   "metadata": {},
   "outputs": [],
   "source": [
    "tokenizer = joblib.load(\"./Data/Pretrained_Tokenizer/Tokenizer.pkl\")"
   ]
  },
  {
   "cell_type": "code",
   "execution_count": 20,
   "metadata": {},
   "outputs": [],
   "source": [
    "article_2 = tokenizer.texts_to_sequences(training_data.iloc[2,:][\"articles\"])"
   ]
  },
  {
   "cell_type": "code",
   "execution_count": 16,
   "metadata": {},
   "outputs": [],
   "source": [
    "seq = sequence.pad_sequences(article_2,maxlen=50)"
   ]
  },
  {
   "cell_type": "code",
   "execution_count": 13,
   "metadata": {},
   "outputs": [],
   "source": [
    "from keras.preprocessing import text,sequence"
   ]
  },
  {
   "cell_type": "code",
   "execution_count": 18,
   "metadata": {},
   "outputs": [
    {
     "data": {
      "text/plain": [
       "(2761, 50)"
      ]
     },
     "execution_count": 18,
     "metadata": {},
     "output_type": "execute_result"
    }
   ],
   "source": [
    "seq.shape"
   ]
  },
  {
   "cell_type": "code",
   "execution_count": 28,
   "metadata": {},
   "outputs": [],
   "source": [
    "art= tokenizer.texts_to_sequences([training_data.iloc[2,:][\"cutted_articles\"]])"
   ]
  },
  {
   "cell_type": "code",
   "execution_count": 37,
   "metadata": {},
   "outputs": [],
   "source": [
    "tt = sequence.pad_sequences(art,maxlen=50)"
   ]
  },
  {
   "cell_type": "code",
   "execution_count": 36,
   "metadata": {},
   "outputs": [
    {
     "data": {
      "text/plain": [
       "True"
      ]
     },
     "execution_count": 36,
     "metadata": {},
     "output_type": "execute_result"
    }
   ],
   "source": [
    "t = \"a\"\n",
    "type(t)==str"
   ]
  },
  {
   "cell_type": "code",
   "execution_count": 38,
   "metadata": {},
   "outputs": [
    {
     "data": {
      "text/plain": [
       "numpy.ndarray"
      ]
     },
     "execution_count": 38,
     "metadata": {},
     "output_type": "execute_result"
    }
   ],
   "source": [
    "type(tt)"
   ]
  },
  {
   "cell_type": "code",
   "execution_count": 27,
   "metadata": {},
   "outputs": [
    {
     "ename": "NameError",
     "evalue": "name 'training_data' is not defined",
     "output_type": "error",
     "traceback": [
      "\u001b[1;31m---------------------------------------------------------------------------\u001b[0m",
      "\u001b[1;31mNameError\u001b[0m                                 Traceback (most recent call last)",
      "\u001b[1;32m<ipython-input-27-904b3274e9d5>\u001b[0m in \u001b[0;36m<module>\u001b[1;34m\u001b[0m\n\u001b[1;32m----> 1\u001b[1;33m \u001b[0mtraining_data\u001b[0m\u001b[1;33m.\u001b[0m\u001b[0miloc\u001b[0m\u001b[1;33m[\u001b[0m\u001b[1;36m2\u001b[0m\u001b[1;33m,\u001b[0m\u001b[1;33m:\u001b[0m\u001b[1;33m]\u001b[0m\u001b[1;33m[\u001b[0m\u001b[1;34m\"articles\"\u001b[0m\u001b[1;33m]\u001b[0m\u001b[1;33m\u001b[0m\u001b[1;33m\u001b[0m\u001b[0m\n\u001b[0m",
      "\u001b[1;31mNameError\u001b[0m: name 'training_data' is not defined"
     ]
    }
   ],
   "source": [
    "training_data.iloc[2,:][\"articles\"]"
   ]
  },
  {
   "cell_type": "code",
   "execution_count": 40,
   "metadata": {},
   "outputs": [],
   "source": [
    "gen = jieba.cut(\"世界级国家博物馆\")"
   ]
  },
  {
   "cell_type": "code",
   "execution_count": 41,
   "metadata": {},
   "outputs": [
    {
     "name": "stderr",
     "output_type": "stream",
     "text": [
      "Building prefix dict from the default dictionary ...\n",
      "Loading model from cache C:\\Users\\Public\\Documents\\Wondershare\\CreatorTemp\\jieba.cache\n",
      "Loading model cost 0.608 seconds.\n",
      "Prefix dict has been built successfully.\n"
     ]
    },
    {
     "data": {
      "text/plain": [
       "['世界级', '国家博物馆']"
      ]
     },
     "execution_count": 41,
     "metadata": {},
     "output_type": "execute_result"
    }
   ],
   "source": [
    "[i for i in gen]"
   ]
  },
  {
   "cell_type": "code",
   "execution_count": 42,
   "metadata": {},
   "outputs": [
    {
     "name": "stderr",
     "output_type": "stream",
     "text": [
      "C:\\Users\\DELL\\anaconda3\\lib\\site-packages\\gensim\\similarities\\__init__.py:15: UserWarning: The gensim.similarities.levenshtein submodule is disabled, because the optional Levenshtein package <https://pypi.org/project/python-Levenshtein/> is unavailable. Install Levenhstein (e.g. `pip install python-Levenshtein`) to suppress this warning.\n",
      "  warnings.warn(msg)\n"
     ]
    }
   ],
   "source": [
    "import gensim\n",
    "from gensim.models.word2vec import KeyedVectors"
   ]
  },
  {
   "cell_type": "code",
   "execution_count": 2,
   "metadata": {},
   "outputs": [],
   "source": [
    "from core.utils.text_preprocessing import TextPreprocessing"
   ]
  },
  {
   "cell_type": "code",
   "execution_count": 30,
   "metadata": {},
   "outputs": [
    {
     "name": "stdout",
     "output_type": "stream",
     "text": [
      "获取train_data中\n",
      "加载已有数据\n",
      "获取train_tokenizer中\n",
      "加载预训练Tokenizer\n",
      "获取embedding_matrix中\n",
      "加载预训练Embedding Matrix\n"
     ]
    }
   ],
   "source": [
    "textCutter = TextPreprocessing(training_embedding=False,training_tf_idf=False,use_tf_idf=True)"
   ]
  },
  {
   "cell_type": "code",
   "execution_count": 10,
   "metadata": {},
   "outputs": [],
   "source": [
    "tmp = textCutter.tokenize_for_text(maxlen=100)"
   ]
  },
  {
   "cell_type": "code",
   "execution_count": 19,
   "metadata": {},
   "outputs": [
    {
     "data": {
      "text/plain": [
       "array([[0.85342181, 0.81054257, 0.47653628, 0.8853717 , 0.47966588,\n",
       "        0.18083302, 0.43607915, 0.71691961, 0.99739437, 0.05864728,\n",
       "        0.55822592, 0.62561374, 0.506411  , 0.91931289, 0.48731491,\n",
       "        0.31903991, 0.8961653 , 0.08288073, 0.22631831, 0.64736649]])"
      ]
     },
     "execution_count": 19,
     "metadata": {},
     "output_type": "execute_result"
    }
   ],
   "source": [
    "import numpy as np\n",
    "np.random.rand(1,20)"
   ]
  },
  {
   "cell_type": "code",
   "execution_count": 22,
   "metadata": {},
   "outputs": [],
   "source": [
    "a = np.sqrt(6/1+200)\n",
    "\n",
    "t1 = np.random.rand(1,2)"
   ]
  },
  {
   "cell_type": "code",
   "execution_count": 23,
   "metadata": {},
   "outputs": [],
   "source": [
    "t2 = np.random.rand(1,2)"
   ]
  },
  {
   "cell_type": "code",
   "execution_count": 44,
   "metadata": {},
   "outputs": [
    {
     "data": {
      "text/html": [
       "<div>\n",
       "<style scoped>\n",
       "    .dataframe tbody tr th:only-of-type {\n",
       "        vertical-align: middle;\n",
       "    }\n",
       "\n",
       "    .dataframe tbody tr th {\n",
       "        vertical-align: top;\n",
       "    }\n",
       "\n",
       "    .dataframe thead th {\n",
       "        text-align: right;\n",
       "    }\n",
       "</style>\n",
       "<table border=\"1\" class=\"dataframe\">\n",
       "  <thead>\n",
       "    <tr style=\"text-align: right;\">\n",
       "      <th></th>\n",
       "      <th>Unnamed: 0</th>\n",
       "      <th>articles</th>\n",
       "      <th>cutted_articles</th>\n",
       "    </tr>\n",
       "  </thead>\n",
       "  <tbody>\n",
       "    <tr>\n",
       "      <th>0</th>\n",
       "      <td>0</td>\n",
       "      <td>2016“中美旅游年”2月29日在京开幕。国家主席习近平向开幕式致贺词。习近平指出，共同举办...</td>\n",
       "      <td>2016 “ 中 美 旅游 年 ” 2 月 29 日 在京开幕 。 国家 主席 习近平 向 ...</td>\n",
       "    </tr>\n",
       "    <tr>\n",
       "      <th>1</th>\n",
       "      <td>1</td>\n",
       "      <td>习近平给北京大学学生回信勉励当代青年勇做走在时代前面的奋进者开拓者奉献者五四青年节即将到来之...</td>\n",
       "      <td>习近平 给 北京大学 学生 回信 勉励 当代 青年 勇 做 走 在 时代 前面 的 奋进 者...</td>\n",
       "    </tr>\n",
       "    <tr>\n",
       "      <th>2</th>\n",
       "      <td>2</td>\n",
       "      <td>3月13日，中国人民政治协商会议第十三届全国委员会第二次会议在北京闭幕。这是习近平、李克强、...</td>\n",
       "      <td>3 月 13 日 ， 中国人民政治协商会议 第十三届 全国 委员会 第二次 会议 在 北京 ...</td>\n",
       "    </tr>\n",
       "    <tr>\n",
       "      <th>3</th>\n",
       "      <td>3</td>\n",
       "      <td>十三、坚定不移全面从严治党，不断提高党的执政能力和领导水平中国特色社会主义进入新时代，我们党...</td>\n",
       "      <td>十三 、 坚定不移 全面 从严治党 ， 不断 提高 党 的 执政 能力 和 领导 水平 中国...</td>\n",
       "    </tr>\n",
       "    <tr>\n",
       "      <th>4</th>\n",
       "      <td>4</td>\n",
       "      <td>第十三次上海合作组织成员国最高法院院长会议25日在北京举行。国家主席习近平致贺信，对会议召开...</td>\n",
       "      <td>第十三次 上海 合作 组织 成员国 最高法院 院长 会议 25 日 在 北京 举行 。 国家...</td>\n",
       "    </tr>\n",
       "    <tr>\n",
       "      <th>...</th>\n",
       "      <td>...</td>\n",
       "      <td>...</td>\n",
       "      <td>...</td>\n",
       "    </tr>\n",
       "    <tr>\n",
       "      <th>11243</th>\n",
       "      <td>11243</td>\n",
       "      <td>国家主席习近平19日在人民大会堂接受8国新任驻华大使递交国书。他们是：斐济驻华大使纳伊瓦卢鲁...</td>\n",
       "      <td>国家 主席 习近平 19 日 在 人民大会堂 接受 8 国 新任 驻华大使 递交国书 。 他...</td>\n",
       "    </tr>\n",
       "    <tr>\n",
       "      <th>11244</th>\n",
       "      <td>11244</td>\n",
       "      <td>习近平对党和国家功勋荣誉表彰工作作出重要指示强调发挥功勋荣誉精神引领典型示范作用推动全社会见...</td>\n",
       "      <td>习近平 对 党和国家 功勋 荣誉 表彰 工作 作出 重要 指示 强调 发挥 功勋 荣誉 精神...</td>\n",
       "    </tr>\n",
       "    <tr>\n",
       "      <th>11245</th>\n",
       "      <td>11245</td>\n",
       "      <td>22日下午，正在福建武夷山市考察的习近平总书记来到朱熹园，了解朱熹生平及理学研究等情况。习近...</td>\n",
       "      <td>22 日 下午 ， 正在 福建 武夷山市 考察 的 习近平 总书记 来到 朱熹 园 ， 了解...</td>\n",
       "    </tr>\n",
       "    <tr>\n",
       "      <th>11246</th>\n",
       "      <td>11246</td>\n",
       "      <td>七月十六日晚，国家主席习近平应邀在北京以视频方式出席亚太经合组织领导人非正式会议并发表讲话。...</td>\n",
       "      <td>七月 十六日 晚 ， 国家 主席 习近平 应邀 在 北京 以 视频 方式 出席 亚太经合组织...</td>\n",
       "    </tr>\n",
       "    <tr>\n",
       "      <th>11247</th>\n",
       "      <td>11247</td>\n",
       "      <td>5月28日，国家主席习近平在北京人民大会堂会见瓦努阿图总理萨尔维。新华社记者黄敬文摄本报北京...</td>\n",
       "      <td>5 月 28 日 ， 国家 主席 习近平 在 北京人民大会堂 会见 瓦努阿图 总理 萨尔 维...</td>\n",
       "    </tr>\n",
       "  </tbody>\n",
       "</table>\n",
       "<p>11248 rows × 3 columns</p>\n",
       "</div>"
      ],
      "text/plain": [
       "       Unnamed: 0                                           articles  \\\n",
       "0               0  2016“中美旅游年”2月29日在京开幕。国家主席习近平向开幕式致贺词。习近平指出，共同举办...   \n",
       "1               1  习近平给北京大学学生回信勉励当代青年勇做走在时代前面的奋进者开拓者奉献者五四青年节即将到来之...   \n",
       "2               2  3月13日，中国人民政治协商会议第十三届全国委员会第二次会议在北京闭幕。这是习近平、李克强、...   \n",
       "3               3  十三、坚定不移全面从严治党，不断提高党的执政能力和领导水平中国特色社会主义进入新时代，我们党...   \n",
       "4               4  第十三次上海合作组织成员国最高法院院长会议25日在北京举行。国家主席习近平致贺信，对会议召开...   \n",
       "...           ...                                                ...   \n",
       "11243       11243  国家主席习近平19日在人民大会堂接受8国新任驻华大使递交国书。他们是：斐济驻华大使纳伊瓦卢鲁...   \n",
       "11244       11244  习近平对党和国家功勋荣誉表彰工作作出重要指示强调发挥功勋荣誉精神引领典型示范作用推动全社会见...   \n",
       "11245       11245  22日下午，正在福建武夷山市考察的习近平总书记来到朱熹园，了解朱熹生平及理学研究等情况。习近...   \n",
       "11246       11246  七月十六日晚，国家主席习近平应邀在北京以视频方式出席亚太经合组织领导人非正式会议并发表讲话。...   \n",
       "11247       11247  5月28日，国家主席习近平在北京人民大会堂会见瓦努阿图总理萨尔维。新华社记者黄敬文摄本报北京...   \n",
       "\n",
       "                                         cutted_articles  \n",
       "0      2016 “ 中 美 旅游 年 ” 2 月 29 日 在京开幕 。 国家 主席 习近平 向 ...  \n",
       "1      习近平 给 北京大学 学生 回信 勉励 当代 青年 勇 做 走 在 时代 前面 的 奋进 者...  \n",
       "2      3 月 13 日 ， 中国人民政治协商会议 第十三届 全国 委员会 第二次 会议 在 北京 ...  \n",
       "3      十三 、 坚定不移 全面 从严治党 ， 不断 提高 党 的 执政 能力 和 领导 水平 中国...  \n",
       "4      第十三次 上海 合作 组织 成员国 最高法院 院长 会议 25 日 在 北京 举行 。 国家...  \n",
       "...                                                  ...  \n",
       "11243  国家 主席 习近平 19 日 在 人民大会堂 接受 8 国 新任 驻华大使 递交国书 。 他...  \n",
       "11244  习近平 对 党和国家 功勋 荣誉 表彰 工作 作出 重要 指示 强调 发挥 功勋 荣誉 精神...  \n",
       "11245  22 日 下午 ， 正在 福建 武夷山市 考察 的 习近平 总书记 来到 朱熹 园 ， 了解...  \n",
       "11246  七月 十六日 晚 ， 国家 主席 习近平 应邀 在 北京 以 视频 方式 出席 亚太经合组织...  \n",
       "11247  5 月 28 日 ， 国家 主席 习近平 在 北京人民大会堂 会见 瓦努阿图 总理 萨尔 维...  \n",
       "\n",
       "[11248 rows x 3 columns]"
      ]
     },
     "execution_count": 44,
     "metadata": {},
     "output_type": "execute_result"
    }
   ],
   "source": [
    "textCutter.training_data"
   ]
  },
  {
   "cell_type": "code",
   "execution_count": 25,
   "metadata": {},
   "outputs": [
    {
     "data": {
      "text/plain": [
       "array([[0.14697613, 0.8257323 ]])"
      ]
     },
     "execution_count": 25,
     "metadata": {},
     "output_type": "execute_result"
    }
   ],
   "source": [
    "t2"
   ]
  },
  {
   "cell_type": "code",
   "execution_count": 26,
   "metadata": {},
   "outputs": [
    {
     "data": {
      "text/plain": [
       "array([[0.1478604, 1.503224 ]])"
      ]
     },
     "execution_count": 26,
     "metadata": {},
     "output_type": "execute_result"
    }
   ],
   "source": [
    "t1+t2"
   ]
  },
  {
   "cell_type": "code",
   "execution_count": 32,
   "metadata": {},
   "outputs": [],
   "source": [
    "dataset = list(textCutter.training_data[\"cutted_articles\"])"
   ]
  },
  {
   "cell_type": "code",
   "execution_count": 33,
   "metadata": {},
   "outputs": [],
   "source": [
    "dataset = [i.split(\" \") for i in dataset]"
   ]
  },
  {
   "cell_type": "code",
   "execution_count": 41,
   "metadata": {},
   "outputs": [],
   "source": [
    "from snownlp import SnowNLP"
   ]
  },
  {
   "cell_type": "code",
   "execution_count": 51,
   "metadata": {},
   "outputs": [
    {
     "data": {
      "text/plain": [
       "array([0., 0., 0., 0., 0.])"
      ]
     },
     "execution_count": 51,
     "metadata": {},
     "output_type": "execute_result"
    }
   ],
   "source": [
    "np.zeros(5)"
   ]
  },
  {
   "cell_type": "code",
   "execution_count": 49,
   "metadata": {},
   "outputs": [],
   "source": [
    "s = SnowNLP([dataset[1]])"
   ]
  },
  {
   "cell_type": "code",
   "execution_count": 105,
   "metadata": {},
   "outputs": [],
   "source": [
    "training_data = textCutter.training_data"
   ]
  },
  {
   "cell_type": "code",
   "execution_count": 94,
   "metadata": {},
   "outputs": [],
   "source": [
    "joined = ' '.join(dataset[0])"
   ]
  },
  {
   "cell_type": "code",
   "execution_count": 95,
   "metadata": {},
   "outputs": [
    {
     "data": {
      "text/plain": [
       "'2016 “ 中 美 旅游 年 ” 2 月 29 日 在京开幕 。 国家 主席 习近平 向 开幕式 致 贺词 。 习近平 指出 ， 共同 举办 2016 “ 中 美 旅游 年 ” 是 我 去年 9 月 对 美国 进行 国事访问 期间 双方 达成 的 一项 重要 成果 。 值此 2016 “ 中 美 旅游 年 ” 开幕 之际 ， 我谨 代表 中国政府 和 人民 ， 并 以 我 个人 的 名义 ， 对 旅游 年 的 开幕 表示 热烈 的 祝贺 ， 对 远道而来 的 美国 朋友 表示 热烈 的 欢迎 。 习近平 指出 ， 中 美 建交 37 年来 ， 两国关系 取得 历史性 发展 。 近年来 ， 双方 共同努力 推进 中 美 新型 大国 关系 建设 ， 两国 在 诸多 重要 领域 、 重大 国际 和 地区 问题 上 开展 了 富有成效 的 协调 与 合作 ， 不仅 造福 两国 和 两国人民 ， 而且 有力 促进 了 世界 和平 、 稳定 、 繁荣 。 习近平 表示 ， 中美 都 有 灿烂 的 文化 、 优美 的 风光 ， 两国人民 都 有 加深了解 、 增进友谊 的 强烈 愿望 。 希望 双方 以 举办 旅游 年 为 契机 ， 扩大 人员 往来 ， 加强 文化交流 ， 为 中美关系 发展 培育 更为 厚实 的 民意 和 社会 基础 。 欢迎 更 多 美国 朋友 来 中国 旅游 。 祝 2016 “ 中 美 旅游 年 ” 圆满成功 。 ( 新华社 北京 3 月 1 日电 )'"
      ]
     },
     "execution_count": 95,
     "metadata": {},
     "output_type": "execute_result"
    }
   ],
   "source": [
    "joined"
   ]
  },
  {
   "cell_type": "code",
   "execution_count": 111,
   "metadata": {},
   "outputs": [],
   "source": [
    "tmp1 = training_data[\"articles\"][0]"
   ]
  },
  {
   "cell_type": "code",
   "execution_count": 113,
   "metadata": {},
   "outputs": [],
   "source": [
    "import jieba"
   ]
  },
  {
   "cell_type": "code",
   "execution_count": 116,
   "metadata": {},
   "outputs": [],
   "source": [
    "import pandas as pd\n",
    "df = pd.DataFrame([tmp1],columns=[\"cutted\"])"
   ]
  },
  {
   "cell_type": "code",
   "execution_count": 117,
   "metadata": {},
   "outputs": [
    {
     "data": {
      "text/html": [
       "<div>\n",
       "<style scoped>\n",
       "    .dataframe tbody tr th:only-of-type {\n",
       "        vertical-align: middle;\n",
       "    }\n",
       "\n",
       "    .dataframe tbody tr th {\n",
       "        vertical-align: top;\n",
       "    }\n",
       "\n",
       "    .dataframe thead th {\n",
       "        text-align: right;\n",
       "    }\n",
       "</style>\n",
       "<table border=\"1\" class=\"dataframe\">\n",
       "  <thead>\n",
       "    <tr style=\"text-align: right;\">\n",
       "      <th></th>\n",
       "      <th>cutted</th>\n",
       "    </tr>\n",
       "  </thead>\n",
       "  <tbody>\n",
       "    <tr>\n",
       "      <th>0</th>\n",
       "      <td>2016“中美旅游年”2月29日在京开幕。国家主席习近平向开幕式致贺词。习近平指出，共同举办...</td>\n",
       "    </tr>\n",
       "  </tbody>\n",
       "</table>\n",
       "</div>"
      ],
      "text/plain": [
       "                                              cutted\n",
       "0  2016“中美旅游年”2月29日在京开幕。国家主席习近平向开幕式致贺词。习近平指出，共同举办..."
      ]
     },
     "execution_count": 117,
     "metadata": {},
     "output_type": "execute_result"
    }
   ],
   "source": [
    "df"
   ]
  },
  {
   "cell_type": "code",
   "execution_count": 118,
   "metadata": {},
   "outputs": [],
   "source": [
    "def jieba_cut(x):\n",
    "    x = jieba.cut(x)\n",
    "    return \" \".join(x)\n",
    "\n",
    "df[\"cutted\"] = df[\"cutted\"].apply(jieba_cut)"
   ]
  },
  {
   "cell_type": "code",
   "execution_count": 119,
   "metadata": {},
   "outputs": [],
   "source": [
    "tmp_list1=df[\"cutted\"][0].split(\" \")"
   ]
  },
  {
   "cell_type": "code",
   "execution_count": 121,
   "metadata": {},
   "outputs": [],
   "source": [
    "tmp_list2=dataset[0]"
   ]
  },
  {
   "cell_type": "code",
   "execution_count": 122,
   "metadata": {},
   "outputs": [
    {
     "data": {
      "text/plain": [
       "True"
      ]
     },
     "execution_count": 122,
     "metadata": {},
     "output_type": "execute_result"
    }
   ],
   "source": [
    "tmp1_list1 == tmp_list2"
   ]
  },
  {
   "cell_type": "code",
   "execution_count": null,
   "metadata": {},
   "outputs": [],
   "source": []
  },
  {
   "cell_type": "code",
   "execution_count": 120,
   "metadata": {},
   "outputs": [
    {
     "data": {
      "text/plain": [
       "['2016',\n",
       " '“',\n",
       " '中',\n",
       " '美',\n",
       " '旅游',\n",
       " '年',\n",
       " '”',\n",
       " '2',\n",
       " '月',\n",
       " '29',\n",
       " '日',\n",
       " '在京开幕',\n",
       " '。',\n",
       " '国家',\n",
       " '主席',\n",
       " '习近平',\n",
       " '向',\n",
       " '开幕式',\n",
       " '致',\n",
       " '贺词',\n",
       " '。',\n",
       " '习近平',\n",
       " '指出',\n",
       " '，',\n",
       " '共同',\n",
       " '举办',\n",
       " '2016',\n",
       " '“',\n",
       " '中',\n",
       " '美',\n",
       " '旅游',\n",
       " '年',\n",
       " '”',\n",
       " '是',\n",
       " '我',\n",
       " '去年',\n",
       " '9',\n",
       " '月',\n",
       " '对',\n",
       " '美国',\n",
       " '进行',\n",
       " '国事访问',\n",
       " '期间',\n",
       " '双方',\n",
       " '达成',\n",
       " '的',\n",
       " '一项',\n",
       " '重要',\n",
       " '成果',\n",
       " '。',\n",
       " '值此',\n",
       " '2016',\n",
       " '“',\n",
       " '中',\n",
       " '美',\n",
       " '旅游',\n",
       " '年',\n",
       " '”',\n",
       " '开幕',\n",
       " '之际',\n",
       " '，',\n",
       " '我谨',\n",
       " '代表',\n",
       " '中国政府',\n",
       " '和',\n",
       " '人民',\n",
       " '，',\n",
       " '并',\n",
       " '以',\n",
       " '我',\n",
       " '个人',\n",
       " '的',\n",
       " '名义',\n",
       " '，',\n",
       " '对',\n",
       " '旅游',\n",
       " '年',\n",
       " '的',\n",
       " '开幕',\n",
       " '表示',\n",
       " '热烈',\n",
       " '的',\n",
       " '祝贺',\n",
       " '，',\n",
       " '对',\n",
       " '远道而来',\n",
       " '的',\n",
       " '美国',\n",
       " '朋友',\n",
       " '表示',\n",
       " '热烈',\n",
       " '的',\n",
       " '欢迎',\n",
       " '。',\n",
       " '习近平',\n",
       " '指出',\n",
       " '，',\n",
       " '中',\n",
       " '美',\n",
       " '建交',\n",
       " '37',\n",
       " '年来',\n",
       " '，',\n",
       " '两国关系',\n",
       " '取得',\n",
       " '历史性',\n",
       " '发展',\n",
       " '。',\n",
       " '近年来',\n",
       " '，',\n",
       " '双方',\n",
       " '共同努力',\n",
       " '推进',\n",
       " '中',\n",
       " '美',\n",
       " '新型',\n",
       " '大国',\n",
       " '关系',\n",
       " '建设',\n",
       " '，',\n",
       " '两国',\n",
       " '在',\n",
       " '诸多',\n",
       " '重要',\n",
       " '领域',\n",
       " '、',\n",
       " '重大',\n",
       " '国际',\n",
       " '和',\n",
       " '地区',\n",
       " '问题',\n",
       " '上',\n",
       " '开展',\n",
       " '了',\n",
       " '富有成效',\n",
       " '的',\n",
       " '协调',\n",
       " '与',\n",
       " '合作',\n",
       " '，',\n",
       " '不仅',\n",
       " '造福',\n",
       " '两国',\n",
       " '和',\n",
       " '两国人民',\n",
       " '，',\n",
       " '而且',\n",
       " '有力',\n",
       " '促进',\n",
       " '了',\n",
       " '世界',\n",
       " '和平',\n",
       " '、',\n",
       " '稳定',\n",
       " '、',\n",
       " '繁荣',\n",
       " '。',\n",
       " '习近平',\n",
       " '表示',\n",
       " '，',\n",
       " '中美',\n",
       " '都',\n",
       " '有',\n",
       " '灿烂',\n",
       " '的',\n",
       " '文化',\n",
       " '、',\n",
       " '优美',\n",
       " '的',\n",
       " '风光',\n",
       " '，',\n",
       " '两国人民',\n",
       " '都',\n",
       " '有',\n",
       " '加深了解',\n",
       " '、',\n",
       " '增进友谊',\n",
       " '的',\n",
       " '强烈',\n",
       " '愿望',\n",
       " '。',\n",
       " '希望',\n",
       " '双方',\n",
       " '以',\n",
       " '举办',\n",
       " '旅游',\n",
       " '年',\n",
       " '为',\n",
       " '契机',\n",
       " '，',\n",
       " '扩大',\n",
       " '人员',\n",
       " '往来',\n",
       " '，',\n",
       " '加强',\n",
       " '文化交流',\n",
       " '，',\n",
       " '为',\n",
       " '中美关系',\n",
       " '发展',\n",
       " '培育',\n",
       " '更为',\n",
       " '厚实',\n",
       " '的',\n",
       " '民意',\n",
       " '和',\n",
       " '社会',\n",
       " '基础',\n",
       " '。',\n",
       " '欢迎',\n",
       " '更',\n",
       " '多',\n",
       " '美国',\n",
       " '朋友',\n",
       " '来',\n",
       " '中国',\n",
       " '旅游',\n",
       " '。',\n",
       " '祝',\n",
       " '2016',\n",
       " '“',\n",
       " '中',\n",
       " '美',\n",
       " '旅游',\n",
       " '年',\n",
       " '”',\n",
       " '圆满成功',\n",
       " '。',\n",
       " '(',\n",
       " '新华社',\n",
       " '北京',\n",
       " '3',\n",
       " '月',\n",
       " '1',\n",
       " '日电',\n",
       " ')']"
      ]
     },
     "execution_count": 120,
     "metadata": {},
     "output_type": "execute_result"
    }
   ],
   "source": [
    "tmp_list1"
   ]
  },
  {
   "cell_type": "code",
   "execution_count": null,
   "metadata": {},
   "outputs": [],
   "source": []
  }
 ],
 "metadata": {
  "kernelspec": {
   "display_name": "Python 3",
   "language": "python",
   "name": "python3"
  },
  "language_info": {
   "codemirror_mode": {
    "name": "ipython",
    "version": 3
   },
   "file_extension": ".py",
   "mimetype": "text/x-python",
   "name": "python",
   "nbconvert_exporter": "python",
   "pygments_lexer": "ipython3",
   "version": "3.8.5"
  }
 },
 "nbformat": 4,
 "nbformat_minor": 4
}
